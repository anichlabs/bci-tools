{
 "cells": [
  {
   "cell_type": "markdown",
   "id": "ae5d9d44",
   "metadata": {},
   "source": [
    "# Notebook 02: Visualise MRCP Features.\n",
    "Visualise the MRCP features across EEG trials from the FeatureExtractor pipeline using Matplotlib and MNE-Python. This step ensures correct extraction and aids interpretation.\n",
    "#### Rationale:\n",
    "- Visual inspection validates that features (e.g. negative peak) align with expected MRCP components.\n",
    "- MRCP onset typically occurs 1.0-2.0s before movement. \n",
    "- Deviations may signal preprocessing or extraction issues.\n",
    "- Inter-subject and inter-trial variability is best captured graphically to detect artefacts or outliers.\n",
    "- Ensures scientific and regulatory reproducibility (e.g., CE dossier, IEC 62304 validation) via transparent visual audit."
   ]
  },
  {
   "cell_type": "markdown",
   "id": "570df7ad",
   "metadata": {},
   "source": [
    "### Cell 1. Generate and Save One Synthetic MRCP Trial andFeature File.\n",
    "Simulate one synthetic EEG trial with MRCP deflection. Extract channel-wise MRCP features (`area`, `peak`, `slope`). Save the result in NumPy and JSON formats to be used by downstream visualisation or classification modules.\n",
    "#### Rationale:\n",
    "- Produces a testable MRCP signal with synthetic deflection to support visual and quantitative validation.\n",
    "- Mimics real MRCP dynamics using synthetic deflection in an otherwise noisy baseline.\n",
    "- Ensures data reproducibility for visual inspection, audit trails, and machine learning training.\n",
    "- Enables fully offline workflow for IEC 62304, AI Act, and GDPR-compliant BCI development."
   ]
  },
  {
   "cell_type": "code",
   "execution_count": 5,
   "id": "aa47a461",
   "metadata": {},
   "outputs": [
    {
     "name": "stdout",
     "output_type": "stream",
     "text": [
      "Synthetic trial and features saved successfully.\n",
      "EEG shape: (4, 1000)\n",
      "Feature keys ['area', 'peak', 'slope']\n"
     ]
    }
   ],
   "source": [
    "# ========================================================================================\n",
    "# Cell 1. Generate and save one synthetic MRCP trial and its extracted features.\n",
    "# ========================================================================================\n",
    "\n",
    "# Simulate one EEG trial with realistic movement-related deflection,\n",
    "# extract MRCP features (area, peak, slope) using FeatureExtractor, and save both outputs\n",
    "# to disk for visualisation and classifier input.\n",
    "\n",
    "# Import numerical and I/O libraries used in signal processing and feature access.\n",
    "import numpy as np              # Numpy handles EEG trial arrays (shape: [channels, samples]).\n",
    "import matplotlib.pyplot as plt # Matplotlib enables graphical exploration of EEG features.\n",
    "import json                     # JSON module allows loading structured MRCP feature dictionaries.\n",
    "import os                       # OS module ensures platform-independent path handling.\n",
    "\n",
    "# -- Signal Processing --\n",
    "from bci_core.preprocessor import SignalPreprocessor\n",
    "from bci_core.mrcp_feature_extractor import MRCPFeatureExtractor\n",
    "\n",
    "# ----------------------------------------------------------------------------------------\n",
    "# STEP 1: Define simulation parameters.\n",
    "# ----------------------------------------------------------------------------------------\n",
    "\n",
    "n_channels = 4                      # Number of EEG channels in the synthetic trial.\n",
    "duration = 4.0                      # Trial in seconds.\n",
    "sfreq = 250                         # Sampling frequency in Hz.\n",
    "n_samples = int(duration * sfreq)   # Total number of time points per channel.\n",
    "\n",
    "# ----------------------------------------------------------------------------------------\n",
    "# STEP 2: Generate synthetic MRCP signal.\n",
    "# ----------------------------------------------------------------------------------------\n",
    "\n",
    "eeg = np.random.randn(n_channels, n_samples) * 5e-6     # Gaussian noise baseline.\n",
    "mrcp_deflection = -np.exp(-np.linspace(0, duration, n_samples)) * 4e-6  # Simulated MRCP waveforms.\n",
    "eeg += mrcp_deflection[None, :]     # Add deflection to all channels.\n",
    "\n",
    "# ----------------------------------------------------------------------------------------\n",
    "# STEP 3: Extract MRCP features using the shared FeatureExtractor.\n",
    "# ----------------------------------------------------------------------------------------\n",
    "\n",
    "extractor = MRCPFeatureExtractor(sfreq=sfreq) # Initialise the extractor.\n",
    "features = extractor.extract_all(eeg)     # Compute all MRCP features. Keys per channel: 'area', 'peak', 'slope'.\n",
    "\n",
    "# ----------------------------------------------------------------------------------------\n",
    "# STEP 4: Save EEG signal and feature dictionary.\n",
    "# ----------------------------------------------------------------------------------------\n",
    "\n",
    "os.makedirs('../data/clean', exist_ok=True)  # Ensures EEG save folder exists.\n",
    "os.makedirs('../data/feat',exist_ok=True)    # Ensures feature save folder exists.\n",
    "\n",
    "np.save('../data/clean/trial_001.npy', eeg)  # Save EEG Matrix.\n",
    "                                            # The .npy format is the standard binary file format in \n",
    "                                            # NumPy for persisting a single arbitrary NumPy array on \n",
    "                                            # disk. The format stores all of the shape and dtype \n",
    "                                            # information necessary to reconstruct the array correctly \n",
    "                                            # even on another machine with a different architecture.\n",
    "with open('../data/feat/trial_001.json', 'w') as f:\n",
    "    json.dump(features, f, indent=4)        # Save MRCP features as JSON.\n",
    "\n",
    "# ----------------------------------------------------------------------------------------\n",
    "# STEP 5: Confirm success.\n",
    "# ----------------------------------------------------------------------------------------\n",
    "\n",
    "# Convert string keys to integers to maintain channel index consistency.\n",
    "features = {int(k): v for k, v in features.items()}\n",
    "\n",
    "# Confirm correct struture and keys.\n",
    "print('Synthetic trial and features saved successfully.')\n",
    "print(f'EEG shape: {eeg.shape}')                 # Expected: (4, 1000).\n",
    "print(f'Feature keys', list(features[0].keys())) # Should include: 'area', 'peak', 'slope'."
   ]
  },
  {
   "cell_type": "markdown",
   "id": "251ec4e3",
   "metadata": {},
   "source": [
    "### Cell 2. Load Synthetic MRCP Trial and Extracted Features.\n",
    "Load one preprocessed EEG trial and its associated MRCP feature dictionary from disk. The signal represents a simulated MRCP recording generated for development and validation purposes. Extracted features include negative peak amplitude, deflection slope, and total area under the curve.\n",
    "#### Rationale:\n",
    "- Enables visual inspection of one complete synthetic MRCP trial to verify preprocessing and feature alignment.\n",
    "- Ensures file structire compliance (/data/clean and /data/feat) for reproducible research and future clinical validation.\n",
    "- MRCP markers (e.g, negative peak, slope, area) are central to detecting movement intent in stroke rehabilitation systems.\n",
    "- Confirming correct signal shape and feature presence is required under IEC 62304 traceability for SaMD (Service as Medical Device)."
   ]
  },
  {
   "cell_type": "code",
   "execution_count": 6,
   "id": "d92e825c",
   "metadata": {},
   "outputs": [
    {
     "name": "stdout",
     "output_type": "stream",
     "text": [
      "Loaded EEG shape: (4, 1000)\n",
      "Extracted Features: dict_keys([0, 1, 2, 3])\n",
      "Feature keys (per channel): dict_keys(['area', 'peak', 'slope'])\n"
     ]
    }
   ],
   "source": [
    "# ========================================================================================\n",
    "# Cell 2. Load one synthetic EEG trial and its extracted MRCP features for inspection.\n",
    "# ========================================================================================\n",
    "\n",
    "# ----------------------------------------------------------------------------------------\n",
    "# STEP 1: Define folders containing EEG trials and extracted feature files.\n",
    "# ----------------------------------------------------------------------------------------\n",
    "\n",
    "path_clean_trials = '../data/clean'  # Folder containing preprocessed EEG signals (.npy).\n",
    "path_features = '../data/feat'       # Folder containing MRCP features extracted per trial (.json).\n",
    "\n",
    "# ----------------------------------------------------------------------------------------\n",
    "# STEP 2: Define the trial identifier to inspect.\n",
    "# ----------------------------------------------------------------------------------------\n",
    "\n",
    "trial_name = 'trial_001'    # Example trial: 'trial_001.npy' and 'trial_001.json'.\n",
    "\n",
    "# ----------------------------------------------------------------------------------------\n",
    "# STEP 3: Load EEG trial as 2D NumPy array.\n",
    "#         Shape convention: (n_channels, n_samples), e.g. (4, 1000) for 4-channel EEG.\n",
    "# ----------------------------------------------------------------------------------------\n",
    "\n",
    "eeg = np.load(os.path.join(path_clean_trials, f'{trial_name}.npy')) # Load EEG data matrix from file.\n",
    "\n",
    "# ----------------------------------------------------------------------------------------\n",
    "# STEP 4: Load extracted MRCP features for the same trial.\n",
    "# ----------------------------------------------------------------------------------------\n",
    "\n",
    "with open(os.path.join(path_features, f'{trial_name}.json')) as f:\n",
    "    features = json.load(f)\n",
    "\n",
    "# ----------------------------------------------------------------------------------------\n",
    "# STEP 5: Print summary to confirm successful loading.\n",
    "# ----------------------------------------------------------------------------------------\n",
    "\n",
    "# Convert string keys to intergers to maintain channel index consistency.\n",
    "features = {int(k): v for k, v in features.items()}\n",
    "\n",
    "print(f'Loaded EEG shape: {eeg.shape}')         # Expected: e.g. (4, 1000): 4 EEG channels x 1000 time points.\n",
    "print('Extracted Features:', features.keys())   # Expected: 'area', 'peak', 'slope' per channel.\n",
    "print('Feature keys (per channel):', features[0].keys()) # Expected: dict_keys(['area', 'peak', 'slope'])."
   ]
  },
  {
   "cell_type": "markdown",
   "id": "8d9ab6a5",
   "metadata": {},
   "source": [
    "### Cell 3. Plot MRCP Waveforms and Annotate Extracted Features.\n",
    "Plot each EEG channel's waveform and visually overlay the extracted MRCP features, including the negative `peak`, `slope` reference point, and shaded `area`. This step confirms alignment between raw data and extracted features.\n",
    "#### Rationale:\n",
    "- Helps validate the correctness of your `MRCPFeatureExtractor`.\n",
    "- Ensures that clinical features (like negative peak latency or slope timing) are visually interpretable.\n",
    "- Supports regularly traceability by linking signal to extract metadata.\n",
    "- Serves as visual debug tool for real vs. synthetic MRCP trials."
   ]
  },
  {
   "cell_type": "code",
   "execution_count": null,
   "id": "17dccf55",
   "metadata": {},
   "outputs": [],
   "source": [
    "# ========================================================================================\n",
    "# Cell 3. Plot MRCP waveforms for each channel with annotated features.\n",
    "# ========================================================================================\n",
    "\n",
    "# Create time axis in second (x-axis for plots).\n",
    "time = np.linspace(0, duration, eeg.shape[1]) # From 0 to 4.0 s, evenly spaced.\n",
    "\n",
    "# Create figure: one subplot per EEG channel.\n",
    "# - n_channels, 1: Creates a vertical stack of n_channels subplots (e.g., 4 channels: 4 rows, 1 column). \n",
    "# Each will show one EEG channel.figsize=(10, 8).\n",
    "# - figsize=(10, 8): Specifies the figure size in inches: 10 wide × 8 tall. A larger height makes room \n",
    "#   for each EEG trace.\n",
    "# - sharex=True: All subplots share the same x-axis, which represents time in EEG. This is crucial in BCI, \n",
    "# so you can align activity across channels.\n",
    "fig, axes = plt.subplots(n_channels, 1, figsize=(10, 8), sharex=True)\n",
    "fig.suptitle('Synthetic MRCP Waveforms with Extracted Features', fontsize=14)\n"
   ]
  }
 ],
 "metadata": {
  "kernelspec": {
   "display_name": "bci",
   "language": "python",
   "name": "python3"
  },
  "language_info": {
   "codemirror_mode": {
    "name": "ipython",
    "version": 3
   },
   "file_extension": ".py",
   "mimetype": "text/x-python",
   "name": "python",
   "nbconvert_exporter": "python",
   "pygments_lexer": "ipython3",
   "version": "3.10.13"
  }
 },
 "nbformat": 4,
 "nbformat_minor": 5
}
